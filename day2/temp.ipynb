{
 "cells": [
  {
   "cell_type": "code",
   "execution_count": 6,
   "metadata": {
    "collapsed": true,
    "ExecuteTime": {
     "end_time": "2023-07-07T00:26:40.148135600Z",
     "start_time": "2023-07-07T00:26:40.124878800Z"
    }
   },
   "outputs": [
    {
     "ename": "TypeError",
     "evalue": "unsupported operand type(s) for -: 'int' and 'list'",
     "output_type": "error",
     "traceback": [
      "\u001B[1;31m---------------------------------------------------------------------------\u001B[0m",
      "\u001B[1;31mTypeError\u001B[0m                                 Traceback (most recent call last)",
      "Cell \u001B[1;32mIn[6], line 7\u001B[0m\n\u001B[0;32m      5\u001B[0m currentlife\u001B[38;5;241m=\u001B[39m\u001B[38;5;28mlist\u001B[39m(\u001B[38;5;28mrange\u001B[39m(\u001B[38;5;241m0\u001B[39m,\u001B[38;5;241m57122\u001B[39m))\n\u001B[0;32m      6\u001B[0m losslife\u001B[38;5;241m=\u001B[39m\u001B[38;5;241m3\u001B[39m\u001B[38;5;241m*\u001B[39mcurrentlife\n\u001B[1;32m----> 7\u001B[0m heallife\u001B[38;5;241m=\u001B[39m\u001B[38;5;241m3\u001B[39m\u001B[38;5;241m*\u001B[39m(\u001B[38;5;241;43m1\u001B[39;49m\u001B[38;5;241;43m-\u001B[39;49m\u001B[38;5;28;43mlist\u001B[39;49m\u001B[43m(\u001B[49m\u001B[38;5;28;43mrange\u001B[39;49m\u001B[43m(\u001B[49m\u001B[38;5;241;43m57122\u001B[39;49m\u001B[43m,\u001B[49m\u001B[38;5;241;43m0\u001B[39;49m\u001B[43m)\u001B[49m\u001B[43m)\u001B[49m)\n\u001B[0;32m      9\u001B[0m plt\u001B[38;5;241m.\u001B[39mplot(currentlife,losslife)\n\u001B[0;32m     10\u001B[0m plt\u001B[38;5;241m.\u001B[39mplot(currentlife,heallife)\n",
      "\u001B[1;31mTypeError\u001B[0m: unsupported operand type(s) for -: 'int' and 'list'"
     ]
    }
   ],
   "source": []
  }
 ],
 "metadata": {
  "kernelspec": {
   "display_name": "Python 3",
   "language": "python",
   "name": "python3"
  },
  "language_info": {
   "codemirror_mode": {
    "name": "ipython",
    "version": 2
   },
   "file_extension": ".py",
   "mimetype": "text/x-python",
   "name": "python",
   "nbconvert_exporter": "python",
   "pygments_lexer": "ipython2",
   "version": "2.7.6"
  }
 },
 "nbformat": 4,
 "nbformat_minor": 0
}
