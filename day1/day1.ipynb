{
 "cells": [
  {
   "cell_type": "markdown",
   "source": [
    "约瑟夫环："
   ],
   "metadata": {
    "collapsed": false
   }
  },
  {
   "cell_type": "code",
   "execution_count": 2,
   "metadata": {
    "collapsed": true,
    "ExecuteTime": {
     "end_time": "2023-06-19T05:10:00.991563400Z",
     "start_time": "2023-06-19T05:10:00.978576100Z"
    }
   },
   "outputs": [
    {
     "name": "stdout",
     "output_type": "stream",
     "text": [
      "9\n",
      "18\n",
      "27\n",
      "6\n",
      "16\n",
      "26\n",
      "7\n",
      "19\n",
      "30\n",
      "12\n",
      "24\n",
      "8\n",
      "22\n",
      "5\n",
      "23\n"
     ]
    }
   ],
   "source": [
    "'''num=int(input(\"请输入人数：\"))\n",
    "deathnumber=int(input(\"请输入隔杀位数(数到几杀）：\"))\n",
    "josephring=list(range(1,num+1))\n",
    "count=0\n",
    "deathcount=1\n",
    "length=len(josephring)\n",
    "while length>1:\n",
    "    if count>=length:\n",
    "        count-=length\n",
    "    if deathcount==deathnumber:\n",
    "        del josephring[count]\n",
    "        length-=1\n",
    "        deathcount=1\n",
    "    count+=1\n",
    "    if count>=length:\n",
    "        count-=length\n",
    "    deathcount+=1;\n",
    "print(f\"最后剩下的号数为：{josephring}\")'''\n",
    "\n",
    "def solution():\n",
    "    #num=int(input(\"请输入人数：\"))\n",
    "    #deathnumber=int(input(\"请输入隔杀位数(数到几杀）：\"))\n",
    "    num=30\n",
    "    deathnumber=9\n",
    "    josephring=list(range(1,num+1))\n",
    "    index=0\n",
    "    #while len(josephring)>1:\n",
    "    while len(josephring)>15:\n",
    "        index=(index+deathnumber-1)%len(josephring)\n",
    "        print(josephring.pop(index))\n",
    "        #del josephring[index]\n",
    "    #print(f\"最后剩下的号数为：{josephring[0]}\")\n",
    "\n",
    "solution()"
   ]
  },
  {
   "cell_type": "markdown",
   "source": [
    "冒泡排序："
   ],
   "metadata": {
    "collapsed": false
   }
  },
  {
   "cell_type": "code",
   "execution_count": 13,
   "outputs": [
    {
     "name": "stdout",
     "output_type": "stream",
     "text": [
      "[1, 1, 2, 3, 3, 4, 4, 4, 5, 5, 5, 5, 5, 5, 6, 6, 6, 7, 7, 7, 8, 8, 8, 9, 9]\n"
     ]
    }
   ],
   "source": [
    "def bubblesort(target):\n",
    "    length=len(target)\n",
    "    for i in range(length):\n",
    "        for j in range(0,length-i-1):\n",
    "            if target[j]>target[j+1]:\n",
    "                target[j],target[j+1]=target[j+1],target[j]\n",
    "    return target\n",
    "\n",
    "test=[1,9,8,5,6,3,4,5,8,7,5,6,5,6,5,4,7,8,9,5,1,2,3,4,7]\n",
    "bubblesort(test)\n",
    "print(test)"
   ],
   "metadata": {
    "collapsed": false,
    "ExecuteTime": {
     "end_time": "2023-06-19T03:23:47.938273300Z",
     "start_time": "2023-06-19T03:23:47.930212500Z"
    }
   }
  },
  {
   "cell_type": "markdown",
   "source": [
    "文件IO："
   ],
   "metadata": {
    "collapsed": false
   }
  },
  {
   "cell_type": "code",
   "execution_count": 25,
   "outputs": [
    {
     "name": "stdout",
     "output_type": "stream",
     "text": [
      "hey\n"
     ]
    }
   ],
   "source": [
    "with open(\"test.txt\",mode=\"wt\") as writefile:\n",
    "    writefile.write(input(\"写一段话\"))\n",
    "\n",
    "with open(\"test.txt\",mode=\"rt\") as readfile:\n",
    "    result=readfile.read()\n",
    "\n",
    "print(result)"
   ],
   "metadata": {
    "collapsed": false,
    "ExecuteTime": {
     "end_time": "2023-06-19T03:43:40.447949300Z",
     "start_time": "2023-06-19T03:43:37.875408100Z"
    }
   }
  }
 ],
 "metadata": {
  "kernelspec": {
   "display_name": "Python 3",
   "language": "python",
   "name": "python3"
  },
  "language_info": {
   "codemirror_mode": {
    "name": "ipython",
    "version": 2
   },
   "file_extension": ".py",
   "mimetype": "text/x-python",
   "name": "python",
   "nbconvert_exporter": "python",
   "pygments_lexer": "ipython2",
   "version": "2.7.6"
  }
 },
 "nbformat": 4,
 "nbformat_minor": 0
}
